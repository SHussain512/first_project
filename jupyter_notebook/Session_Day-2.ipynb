{
 "cells": [
  {
   "cell_type": "code",
   "execution_count": null,
   "id": "5999f775",
   "metadata": {},
   "outputs": [],
   "source": [
    "# body mass index (BMI)\n",
    "# input weight\n",
    "# Height\n",
    "# BMI (Ask yourself your height)\n",
    "# Weight\n",
    "# Calculate \n",
    "# print(My name is...,and my BMI is.....)"
   ]
  },
  {
   "cell_type": "code",
   "execution_count": null,
   "id": "eac5318a",
   "metadata": {},
   "outputs": [],
   "source": [
    "# Weight in kg/height in m and its square\n"
   ]
  },
  {
   "cell_type": "code",
   "execution_count": null,
   "id": "562ed870",
   "metadata": {
    "scrolled": true
   },
   "outputs": [],
   "source": [
    "height = input(\"what is your height?\")"
   ]
  },
  {
   "cell_type": "code",
   "execution_count": null,
   "id": "2d765ae5",
   "metadata": {},
   "outputs": [],
   "source": [
    "height = float(height)"
   ]
  },
  {
   "cell_type": "code",
   "execution_count": null,
   "id": "073519a8",
   "metadata": {},
   "outputs": [],
   "source": [
    "weight = input(\"what is your weight?\")"
   ]
  },
  {
   "cell_type": "code",
   "execution_count": null,
   "id": "88ee75f2",
   "metadata": {},
   "outputs": [],
   "source": [
    "name = input(\"what is your name?\")"
   ]
  },
  {
   "cell_type": "code",
   "execution_count": null,
   "id": "6cc03d92",
   "metadata": {},
   "outputs": [],
   "source": [
    "BMI = weight/height**2\n",
    "BMI"
   ]
  },
  {
   "cell_type": "code",
   "execution_count": null,
   "id": "d5a9ce6d",
   "metadata": {},
   "outputs": [],
   "source": []
  }
 ],
 "metadata": {
  "kernelspec": {
   "display_name": "Python 3 (ipykernel)",
   "language": "python",
   "name": "python3"
  },
  "language_info": {
   "codemirror_mode": {
    "name": "ipython",
    "version": 3
   },
   "file_extension": ".py",
   "mimetype": "text/x-python",
   "name": "python",
   "nbconvert_exporter": "python",
   "pygments_lexer": "ipython3",
   "version": "3.9.7"
  }
 },
 "nbformat": 4,
 "nbformat_minor": 5
}
