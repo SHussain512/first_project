{
 "cells": [
  {
   "cell_type": "markdown",
   "id": "bfa165d1",
   "metadata": {},
   "source": [
    "# -Indexing"
   ]
  },
  {
   "cell_type": "code",
   "execution_count": 1,
   "id": "2ebf21ab",
   "metadata": {},
   "outputs": [
    {
     "data": {
      "text/plain": [
       "'Samosa Pakora'"
      ]
     },
     "execution_count": 1,
     "metadata": {},
     "output_type": "execute_result"
    }
   ],
   "source": [
    "# make a string\n",
    "a = \"Samosa Pakora\"\n",
    "a"
   ]
  },
  {
   "cell_type": "code",
   "execution_count": 2,
   "id": "58594536",
   "metadata": {},
   "outputs": [
    {
     "data": {
      "text/plain": [
       "'Samosa Pakora'"
      ]
     },
     "execution_count": 2,
     "metadata": {},
     "output_type": "execute_result"
    }
   ],
   "source": [
    "a"
   ]
  },
  {
   "cell_type": "code",
   "execution_count": 3,
   "id": "ba147f35",
   "metadata": {},
   "outputs": [
    {
     "data": {
      "text/plain": [
       "13"
      ]
     },
     "execution_count": 3,
     "metadata": {},
     "output_type": "execute_result"
    }
   ],
   "source": [
    "# length of indeces\n",
    "len(a)"
   ]
  },
  {
   "cell_type": "code",
   "execution_count": 4,
   "id": "e392507f",
   "metadata": {
    "scrolled": true
   },
   "outputs": [
    {
     "data": {
      "text/plain": [
       "'S'"
      ]
     },
     "execution_count": 4,
     "metadata": {},
     "output_type": "execute_result"
    }
   ],
   "source": [
    "a[0]"
   ]
  },
  {
   "cell_type": "code",
   "execution_count": 5,
   "id": "768c2851",
   "metadata": {
    "scrolled": true
   },
   "outputs": [
    {
     "data": {
      "text/plain": [
       "'a'"
      ]
     },
     "execution_count": 5,
     "metadata": {},
     "output_type": "execute_result"
    }
   ],
   "source": [
    "a[1]"
   ]
  },
  {
   "cell_type": "code",
   "execution_count": 6,
   "id": "17de326e",
   "metadata": {},
   "outputs": [
    {
     "data": {
      "text/plain": [
       "'o'"
      ]
     },
     "execution_count": 6,
     "metadata": {},
     "output_type": "execute_result"
    }
   ],
   "source": [
    "a[3]"
   ]
  },
  {
   "cell_type": "code",
   "execution_count": 7,
   "id": "d7eb96f9",
   "metadata": {},
   "outputs": [
    {
     "data": {
      "text/plain": [
       "'a'"
      ]
     },
     "execution_count": 7,
     "metadata": {},
     "output_type": "execute_result"
    }
   ],
   "source": [
    "a[12]"
   ]
  },
  {
   "cell_type": "code",
   "execution_count": 8,
   "id": "0cf053e1",
   "metadata": {},
   "outputs": [
    {
     "data": {
      "text/plain": [
       "'Samos'"
      ]
     },
     "execution_count": 8,
     "metadata": {},
     "output_type": "execute_result"
    }
   ],
   "source": [
    "a[0:5]"
   ]
  },
  {
   "cell_type": "code",
   "execution_count": 9,
   "id": "f51b8d70",
   "metadata": {
    "scrolled": true
   },
   "outputs": [
    {
     "data": {
      "text/plain": [
       "'Samosa Pakora'"
      ]
     },
     "execution_count": 9,
     "metadata": {},
     "output_type": "execute_result"
    }
   ],
   "source": [
    "# exclusive element is the last one/ last index is exclusive \n",
    "a[0:13]"
   ]
  },
  {
   "cell_type": "code",
   "execution_count": 10,
   "id": "e4e51f0f",
   "metadata": {
    "scrolled": true
   },
   "outputs": [
    {
     "data": {
      "text/plain": [
       "'Pakora'"
      ]
     },
     "execution_count": 10,
     "metadata": {},
     "output_type": "execute_result"
    }
   ],
   "source": [
    "a[-6:13]"
   ]
  },
  {
   "cell_type": "code",
   "execution_count": 11,
   "id": "041c2b85",
   "metadata": {},
   "outputs": [
    {
     "data": {
      "text/plain": [
       "'biryani'"
      ]
     },
     "execution_count": 11,
     "metadata": {},
     "output_type": "execute_result"
    }
   ],
   "source": [
    "food = \"biryani\"\n",
    "food"
   ]
  },
  {
   "cell_type": "markdown",
   "id": "348f2ae8",
   "metadata": {},
   "source": [
    "# string methods "
   ]
  },
  {
   "cell_type": "code",
   "execution_count": 12,
   "id": "a461668a",
   "metadata": {},
   "outputs": [
    {
     "data": {
      "text/plain": [
       "'biryani'"
      ]
     },
     "execution_count": 12,
     "metadata": {},
     "output_type": "execute_result"
    }
   ],
   "source": [
    "food "
   ]
  },
  {
   "cell_type": "code",
   "execution_count": 13,
   "id": "c6f72235",
   "metadata": {},
   "outputs": [
    {
     "data": {
      "text/plain": [
       "7"
      ]
     },
     "execution_count": 13,
     "metadata": {},
     "output_type": "execute_result"
    }
   ],
   "source": [
    "len(food)"
   ]
  },
  {
   "cell_type": "code",
   "execution_count": 14,
   "id": "4e802004",
   "metadata": {},
   "outputs": [
    {
     "data": {
      "text/plain": [
       "'Biryani'"
      ]
     },
     "execution_count": 14,
     "metadata": {},
     "output_type": "execute_result"
    }
   ],
   "source": [
    "# capitalize every element\n",
    "food.capitalize()"
   ]
  },
  {
   "cell_type": "code",
   "execution_count": 15,
   "id": "ed17cc23",
   "metadata": {},
   "outputs": [
    {
     "data": {
      "text/plain": [
       "'BIRYANI'"
      ]
     },
     "execution_count": 15,
     "metadata": {},
     "output_type": "execute_result"
    }
   ],
   "source": [
    "# uppercase letters\n",
    "food.upper()"
   ]
  },
  {
   "cell_type": "code",
   "execution_count": 16,
   "id": "45b2d959",
   "metadata": {},
   "outputs": [
    {
     "data": {
      "text/plain": [
       "'biryani'"
      ]
     },
     "execution_count": 16,
     "metadata": {},
     "output_type": "execute_result"
    }
   ],
   "source": [
    "# lowecase letters\n",
    "food.lower()"
   ]
  },
  {
   "cell_type": "code",
   "execution_count": 17,
   "id": "9de088e0",
   "metadata": {},
   "outputs": [
    {
     "data": {
      "text/plain": [
       "'shiryani'"
      ]
     },
     "execution_count": 17,
     "metadata": {},
     "output_type": "execute_result"
    }
   ],
   "source": [
    "food.replace(\"b\",\"sh\")"
   ]
  },
  {
   "cell_type": "code",
   "execution_count": 18,
   "id": "e8b09298",
   "metadata": {},
   "outputs": [
    {
     "data": {
      "text/plain": [
       "'baba_aammar with Dr Aammar Tufail'"
      ]
     },
     "execution_count": 18,
     "metadata": {},
     "output_type": "execute_result"
    }
   ],
   "source": [
    "# counting a specific alphabet in a string\n",
    "name = \"baba_aammar with Dr Aammar Tufail\"\n",
    "name"
   ]
  },
  {
   "cell_type": "code",
   "execution_count": 19,
   "id": "e72e8825",
   "metadata": {
    "scrolled": true
   },
   "outputs": [
    {
     "data": {
      "text/plain": [
       "8"
      ]
     },
     "execution_count": 19,
     "metadata": {},
     "output_type": "execute_result"
    }
   ],
   "source": [
    "name.count(\"a\")"
   ]
  },
  {
   "cell_type": "markdown",
   "id": "47fbe073",
   "metadata": {},
   "source": [
    "### - finding an index number in string"
   ]
  },
  {
   "cell_type": "code",
   "execution_count": 20,
   "id": "94a8964f",
   "metadata": {
    "scrolled": true
   },
   "outputs": [
    {
     "data": {
      "text/plain": [
       "'baba_aammar with Dr Aammar Tufail'"
      ]
     },
     "execution_count": 20,
     "metadata": {},
     "output_type": "execute_result"
    }
   ],
   "source": [
    "name = \"baba_aammar with Dr Aammar Tufail\"\n",
    "name"
   ]
  },
  {
   "cell_type": "code",
   "execution_count": 21,
   "id": "965d5e19",
   "metadata": {
    "scrolled": true
   },
   "outputs": [
    {
     "data": {
      "text/plain": [
       "27"
      ]
     },
     "execution_count": 21,
     "metadata": {},
     "output_type": "execute_result"
    }
   ],
   "source": [
    "name.find(\"T\")"
   ]
  },
  {
   "cell_type": "code",
   "execution_count": 22,
   "id": "191307ab",
   "metadata": {},
   "outputs": [
    {
     "data": {
      "text/plain": [
       "'I love samosa, pakora, raita, biryani and rarahi'"
      ]
     },
     "execution_count": 22,
     "metadata": {},
     "output_type": "execute_result"
    }
   ],
   "source": [
    "### - How to split a string\n",
    "food =\"I love samosa, pakora, raita, biryani and rarahi\"\n",
    "food"
   ]
  },
  {
   "cell_type": "code",
   "execution_count": 23,
   "id": "abed9a6a",
   "metadata": {
    "scrolled": true
   },
   "outputs": [
    {
     "data": {
      "text/plain": [
       "['I love samosa', ' pakora', ' raita', ' biryani and rarahi']"
      ]
     },
     "execution_count": 23,
     "metadata": {},
     "output_type": "execute_result"
    }
   ],
   "source": [
    "food.split(\",\")"
   ]
  },
  {
   "cell_type": "markdown",
   "id": "1047c1dc",
   "metadata": {},
   "source": [
    "# Basic data structure in Python\n",
    "\n",
    " **1- Tules**\n",
    "\n",
    " **2- List**\n",
    "\n",
    " **3- Dictionaries** \n",
    "\n",
    " **4- Set**"
   ]
  },
  {
   "cell_type": "markdown",
   "id": "9154c8b6",
   "metadata": {},
   "source": [
    "## 1- Tuple\n",
    "- Ordered collection of elements\n",
    "- Enclosed in () round baraces/ prenthesis\n",
    "- Different kind of elements cab be stored \n",
    "- Once elements are stored you can not change then (unmutatable)"
   ]
  },
  {
   "cell_type": "code",
   "execution_count": 24,
   "id": "302cefc1",
   "metadata": {
    "scrolled": true
   },
   "outputs": [
    {
     "data": {
      "text/plain": [
       "(1, 'Python', True, 2.5)"
      ]
     },
     "execution_count": 24,
     "metadata": {},
     "output_type": "execute_result"
    }
   ],
   "source": [
    "tup1 = (1, \"Python\", True, 2.5)\n",
    "tup1"
   ]
  },
  {
   "cell_type": "code",
   "execution_count": 25,
   "id": "24a593ac",
   "metadata": {},
   "outputs": [
    {
     "data": {
      "text/plain": [
       "tuple"
      ]
     },
     "execution_count": 25,
     "metadata": {},
     "output_type": "execute_result"
    }
   ],
   "source": [
    "#type of a tuple\n",
    "type(tup1)"
   ]
  },
  {
   "cell_type": "markdown",
   "id": "6eeb160e",
   "metadata": {},
   "source": [
    "### - Indexing in tuple"
   ]
  },
  {
   "cell_type": "code",
   "execution_count": 26,
   "id": "654e8543",
   "metadata": {},
   "outputs": [
    {
     "data": {
      "text/plain": [
       "'Python'"
      ]
     },
     "execution_count": 26,
     "metadata": {},
     "output_type": "execute_result"
    }
   ],
   "source": [
    "tup1[1]"
   ]
  },
  {
   "cell_type": "code",
   "execution_count": 27,
   "id": "9ad2adc2",
   "metadata": {},
   "outputs": [
    {
     "data": {
      "text/plain": [
       "True"
      ]
     },
     "execution_count": 27,
     "metadata": {},
     "output_type": "execute_result"
    }
   ],
   "source": [
    "tup1[2]"
   ]
  },
  {
   "cell_type": "code",
   "execution_count": 28,
   "id": "a7e63a56",
   "metadata": {},
   "outputs": [
    {
     "data": {
      "text/plain": [
       "(1, 'Python', True)"
      ]
     },
     "execution_count": 28,
     "metadata": {},
     "output_type": "execute_result"
    }
   ],
   "source": [
    "#last element is exclusive \n",
    "tup1[0:3]"
   ]
  },
  {
   "cell_type": "code",
   "execution_count": 29,
   "id": "bde8174a",
   "metadata": {},
   "outputs": [
    {
     "data": {
      "text/plain": [
       "4"
      ]
     },
     "execution_count": 29,
     "metadata": {},
     "output_type": "execute_result"
    }
   ],
   "source": [
    "#count of elemets in tuple\n",
    "len(tup1)"
   ]
  },
  {
   "cell_type": "code",
   "execution_count": 30,
   "id": "3bc9547e",
   "metadata": {},
   "outputs": [
    {
     "data": {
      "text/plain": [
       "(2, 'babaAammar', 3.5, False)"
      ]
     },
     "execution_count": 30,
     "metadata": {},
     "output_type": "execute_result"
    }
   ],
   "source": [
    "tup2 = (2,\"babaAammar\", 3.5, False)\n",
    "tup2"
   ]
  },
  {
   "cell_type": "code",
   "execution_count": 31,
   "id": "c1290949",
   "metadata": {},
   "outputs": [
    {
     "data": {
      "text/plain": [
       "(1, 'Python', True, 2.5, 2, 'babaAammar', 3.5, False)"
      ]
     },
     "execution_count": 31,
     "metadata": {},
     "output_type": "execute_result"
    }
   ],
   "source": [
    "#concatinate (to add tuple or >2)\n",
    "tup1 + tup2"
   ]
  },
  {
   "cell_type": "code",
   "execution_count": 32,
   "id": "050b8370",
   "metadata": {},
   "outputs": [
    {
     "data": {
      "text/plain": [
       "(1, 'Python', True, 2.5, 1, 'Python', True, 2.5, 2, 'babaAammar', 3.5, False)"
      ]
     },
     "execution_count": 32,
     "metadata": {},
     "output_type": "execute_result"
    }
   ],
   "source": [
    "#concatinate  + repeat\n",
    "tup1*2+tup2"
   ]
  },
  {
   "cell_type": "code",
   "execution_count": 33,
   "id": "4be84dbb",
   "metadata": {
    "scrolled": true
   },
   "outputs": [
    {
     "data": {
      "text/plain": [
       "(20, 50, 30, 60, 79, 85)"
      ]
     },
     "execution_count": 33,
     "metadata": {},
     "output_type": "execute_result"
    }
   ],
   "source": [
    "tup3 = (20, 50, 30, 60, 79,85)\n",
    "tup3"
   ]
  },
  {
   "cell_type": "code",
   "execution_count": 34,
   "id": "e32619be",
   "metadata": {},
   "outputs": [
    {
     "data": {
      "text/plain": [
       "20"
      ]
     },
     "execution_count": 34,
     "metadata": {},
     "output_type": "execute_result"
    }
   ],
   "source": [
    "#minimum\n",
    "min(tup3)"
   ]
  },
  {
   "cell_type": "code",
   "execution_count": 35,
   "id": "c49e3fe0",
   "metadata": {},
   "outputs": [
    {
     "data": {
      "text/plain": [
       "85"
      ]
     },
     "execution_count": 35,
     "metadata": {},
     "output_type": "execute_result"
    }
   ],
   "source": [
    "#maximum\n",
    "max(tup3)"
   ]
  },
  {
   "cell_type": "code",
   "execution_count": 36,
   "id": "1e7d0dbe",
   "metadata": {},
   "outputs": [
    {
     "data": {
      "text/plain": [
       "(20, 50, 30, 60, 79, 85, 20, 50, 30, 60, 79, 85)"
      ]
     },
     "execution_count": 36,
     "metadata": {},
     "output_type": "execute_result"
    }
   ],
   "source": [
    "tup3*2"
   ]
  },
  {
   "cell_type": "markdown",
   "id": "b002d565",
   "metadata": {},
   "source": [
    "---"
   ]
  },
  {
   "cell_type": "markdown",
   "id": "d5e3bcd4",
   "metadata": {},
   "source": [
    "### 2- List  \n",
    "- ordered collection of elemets \n",
    "- enclosed in [] square braces/ brackets\n",
    "- mutateables, you can change the values"
   ]
  },
  {
   "cell_type": "code",
   "execution_count": 37,
   "id": "72666c0b",
   "metadata": {},
   "outputs": [
    {
     "data": {
      "text/plain": [
       "[2, 'babaAammar', False]"
      ]
     },
     "execution_count": 37,
     "metadata": {},
     "output_type": "execute_result"
    }
   ],
   "source": [
    "list1 = [2,\"babaAammar\", False]\n",
    "list1"
   ]
  },
  {
   "cell_type": "code",
   "execution_count": 38,
   "id": "fa03ebca",
   "metadata": {},
   "outputs": [
    {
     "data": {
      "text/plain": [
       "list"
      ]
     },
     "execution_count": 38,
     "metadata": {},
     "output_type": "execute_result"
    }
   ],
   "source": [
    "type(list1)"
   ]
  },
  {
   "cell_type": "code",
   "execution_count": 39,
   "id": "91af68a1",
   "metadata": {
    "scrolled": true
   },
   "outputs": [
    {
     "data": {
      "text/plain": [
       "3"
      ]
     },
     "execution_count": 39,
     "metadata": {},
     "output_type": "execute_result"
    }
   ],
   "source": [
    "len(list1)"
   ]
  },
  {
   "cell_type": "code",
   "execution_count": 40,
   "id": "513c4807",
   "metadata": {},
   "outputs": [
    {
     "data": {
      "text/plain": [
       "False"
      ]
     },
     "execution_count": 40,
     "metadata": {},
     "output_type": "execute_result"
    }
   ],
   "source": [
    "list1[2]"
   ]
  },
  {
   "cell_type": "code",
   "execution_count": 41,
   "id": "0e8f9847",
   "metadata": {
    "scrolled": true
   },
   "outputs": [
    {
     "data": {
      "text/plain": [
       "[3, 5, 'Aammar', 'Codanics ', 478, 53.2, False]"
      ]
     },
     "execution_count": 41,
     "metadata": {},
     "output_type": "execute_result"
    }
   ],
   "source": [
    "list2 = [3, 5, \"Aammar\", \"Codanics \", 478, 53.2, False]\n",
    "list2"
   ]
  },
  {
   "cell_type": "code",
   "execution_count": 42,
   "id": "aba6691e",
   "metadata": {},
   "outputs": [
    {
     "data": {
      "text/plain": [
       "[2, 'babaAammar', False, 3, 5, 'Aammar', 'Codanics ', 478, 53.2, False]"
      ]
     },
     "execution_count": 42,
     "metadata": {},
     "output_type": "execute_result"
    }
   ],
   "source": [
    "list1 + list2"
   ]
  },
  {
   "cell_type": "code",
   "execution_count": 43,
   "id": "350ba602",
   "metadata": {
    "scrolled": true
   },
   "outputs": [
    {
     "data": {
      "text/plain": [
       "[2, 'babaAammar', False, 2, 'babaAammar', False]"
      ]
     },
     "execution_count": 43,
     "metadata": {},
     "output_type": "execute_result"
    }
   ],
   "source": [
    "list1*2"
   ]
  },
  {
   "cell_type": "code",
   "execution_count": 44,
   "id": "ed912986",
   "metadata": {},
   "outputs": [
    {
     "data": {
      "text/plain": [
       "[False, 'babaAammar', 2]"
      ]
     },
     "execution_count": 44,
     "metadata": {},
     "output_type": "execute_result"
    }
   ],
   "source": [
    "list1.reverse()\n",
    "list1"
   ]
  },
  {
   "cell_type": "code",
   "execution_count": 45,
   "id": "f9c2a71f",
   "metadata": {
    "scrolled": true
   },
   "outputs": [
    {
     "data": {
      "text/plain": [
       "[20, 30, 35, 50, 40, 12, 15, 11, 10, 356, 56, 886]"
      ]
     },
     "execution_count": 45,
     "metadata": {},
     "output_type": "execute_result"
    }
   ],
   "source": [
    "list3 = [20,30,35,50,40,12,15,11,10,356,56,886]\n",
    "list3"
   ]
  },
  {
   "cell_type": "code",
   "execution_count": 46,
   "id": "34bc5ecc",
   "metadata": {},
   "outputs": [
    {
     "data": {
      "text/plain": [
       "[False, 'babaAammar', 2, 'Codanics youtube channel']"
      ]
     },
     "execution_count": 46,
     "metadata": {},
     "output_type": "execute_result"
    }
   ],
   "source": [
    "list1.append(\"Codanics youtube channel\")\n",
    "list1"
   ]
  },
  {
   "cell_type": "code",
   "execution_count": 47,
   "id": "ad07941f",
   "metadata": {
    "scrolled": true
   },
   "outputs": [
    {
     "data": {
      "text/plain": [
       "12"
      ]
     },
     "execution_count": 47,
     "metadata": {},
     "output_type": "execute_result"
    }
   ],
   "source": [
    "len(list3)"
   ]
  },
  {
   "cell_type": "code",
   "execution_count": 48,
   "id": "040ca058",
   "metadata": {
    "scrolled": true
   },
   "outputs": [
    {
     "data": {
      "text/plain": [
       "[10, 11, 12, 15, 20, 30, 35, 40, 50, 56, 356, 886]"
      ]
     },
     "execution_count": 48,
     "metadata": {},
     "output_type": "execute_result"
    }
   ],
   "source": [
    "#sorting a list\n",
    "list3.sort()\n",
    "list3"
   ]
  },
  {
   "cell_type": "code",
   "execution_count": 49,
   "id": "e9b6a6d6",
   "metadata": {},
   "outputs": [
    {
     "data": {
      "text/plain": [
       "[10,\n",
       " 11,\n",
       " 12,\n",
       " 15,\n",
       " 20,\n",
       " 30,\n",
       " 35,\n",
       " 40,\n",
       " 50,\n",
       " 56,\n",
       " 356,\n",
       " 886,\n",
       " 10,\n",
       " 11,\n",
       " 12,\n",
       " 15,\n",
       " 20,\n",
       " 30,\n",
       " 35,\n",
       " 40,\n",
       " 50,\n",
       " 56,\n",
       " 356,\n",
       " 886,\n",
       " 10,\n",
       " 11,\n",
       " 12,\n",
       " 15,\n",
       " 20,\n",
       " 30,\n",
       " 35,\n",
       " 40,\n",
       " 50,\n",
       " 56,\n",
       " 356,\n",
       " 886]"
      ]
     },
     "execution_count": 49,
     "metadata": {},
     "output_type": "execute_result"
    }
   ],
   "source": [
    "list3*3"
   ]
  },
  {
   "cell_type": "code",
   "execution_count": 50,
   "id": "1b758f1f",
   "metadata": {
    "scrolled": true
   },
   "outputs": [
    {
     "data": {
      "text/plain": [
       "[False,\n",
       " 'babaAammar',\n",
       " 2,\n",
       " 'Codanics youtube channel',\n",
       " 3,\n",
       " 5,\n",
       " 'Aammar',\n",
       " 'Codanics ',\n",
       " 478,\n",
       " 53.2,\n",
       " False]"
      ]
     },
     "execution_count": 50,
     "metadata": {},
     "output_type": "execute_result"
    }
   ],
   "source": [
    "lists= list1 + list2\n",
    "lists"
   ]
  },
  {
   "cell_type": "markdown",
   "id": "59580e59",
   "metadata": {},
   "source": [
    "### Functions of list"
   ]
  },
  {
   "cell_type": "code",
   "execution_count": 51,
   "id": "9b3c94cb",
   "metadata": {},
   "outputs": [
    {
     "data": {
      "text/plain": [
       "['Karachi', 'Islamabad', 'Gilgit', 'Lahore']"
      ]
     },
     "execution_count": 51,
     "metadata": {},
     "output_type": "execute_result"
    }
   ],
   "source": [
    "#list append\n",
    "cities = [ 'Karachi', 'Islamabad', 'Gilgit']\n",
    "cities.append(\"Lahore\")\n",
    "cities\n"
   ]
  },
  {
   "cell_type": "code",
   "execution_count": 52,
   "id": "a9468740",
   "metadata": {},
   "outputs": [
    {
     "data": {
      "text/plain": [
       "[]"
      ]
     },
     "execution_count": 52,
     "metadata": {},
     "output_type": "execute_result"
    }
   ],
   "source": [
    "#list clear\n",
    "cities = [ 'Karachi', 'Islamabad', 'Gilgit']\n",
    "cities.clear()\n",
    "cities\n"
   ]
  },
  {
   "cell_type": "code",
   "execution_count": 53,
   "id": "18b559e2",
   "metadata": {},
   "outputs": [
    {
     "data": {
      "text/plain": [
       "['Karachi', 'Islamabad', 'Gilgit']"
      ]
     },
     "execution_count": 53,
     "metadata": {},
     "output_type": "execute_result"
    }
   ],
   "source": [
    "#list copy\n",
    "cities = [ 'Karachi', 'Islamabad', 'Gilgit']\n",
    "\n",
    "x = cities.copy()\n",
    "x"
   ]
  },
  {
   "cell_type": "code",
   "execution_count": 54,
   "id": "2557b552",
   "metadata": {},
   "outputs": [
    {
     "data": {
      "text/plain": [
       "1"
      ]
     },
     "execution_count": 54,
     "metadata": {},
     "output_type": "execute_result"
    }
   ],
   "source": [
    "#list count\n",
    "cities = [ 'Karachi', 'Islamabad', 'Gilgit']\n",
    "x = cities.count(\"Gilgit\")\n",
    "x"
   ]
  },
  {
   "cell_type": "code",
   "execution_count": 55,
   "id": "3e84e438",
   "metadata": {},
   "outputs": [
    {
     "data": {
      "text/plain": [
       "['Karachi', 'Islamabad', 'Gilgit', 'Pakistan ', 'China', 'Germany']"
      ]
     },
     "execution_count": 55,
     "metadata": {},
     "output_type": "execute_result"
    }
   ],
   "source": [
    "#list extend\n",
    "cities = [ \"Karachi\", \"Islamabad\", \"Gilgit\"]\n",
    "countries = [\"Pakistan \", \"China\", \"Germany\"]\n",
    "cities.extend(countries)\n",
    "cities"
   ]
  },
  {
   "cell_type": "code",
   "execution_count": 56,
   "id": "51c2b599",
   "metadata": {},
   "outputs": [
    {
     "data": {
      "text/plain": [
       "1"
      ]
     },
     "execution_count": 56,
     "metadata": {},
     "output_type": "execute_result"
    }
   ],
   "source": [
    "#list index\n",
    "cities = [ \"Karachi\", \"Islamabad\", \"Gilgit\"]\n",
    "x = cities.index(\"Islamabad\")\n",
    "x"
   ]
  },
  {
   "cell_type": "code",
   "execution_count": 57,
   "id": "3d2cd91b",
   "metadata": {},
   "outputs": [
    {
     "data": {
      "text/plain": [
       "['Karachi', 'Lahore', 'Islamabad', 'Gilgit']"
      ]
     },
     "execution_count": 57,
     "metadata": {},
     "output_type": "execute_result"
    }
   ],
   "source": [
    "#list insert\n",
    "cities = [ \"Karachi\", \"Islamabad\", \"Gilgit\"]\n",
    "cities.insert(1, \"Lahore\")\n",
    "cities"
   ]
  },
  {
   "cell_type": "code",
   "execution_count": 58,
   "id": "b8de4a67",
   "metadata": {},
   "outputs": [
    {
     "data": {
      "text/plain": [
       "['Karachi', 'Gilgit']"
      ]
     },
     "execution_count": 58,
     "metadata": {},
     "output_type": "execute_result"
    }
   ],
   "source": [
    "#list pop\n",
    "cities = [ \"Karachi\", \"Islamabad\", \"Gilgit\"]\n",
    "cities.pop(1)\n",
    "cities"
   ]
  },
  {
   "cell_type": "code",
   "execution_count": 59,
   "id": "b46e8ecb",
   "metadata": {},
   "outputs": [
    {
     "data": {
      "text/plain": [
       "['Karachi', 'Gilgit']"
      ]
     },
     "execution_count": 59,
     "metadata": {},
     "output_type": "execute_result"
    }
   ],
   "source": [
    "#list remove\n",
    "cities = [ \"Karachi\", \"Islamabad\", \"Gilgit\"]\n",
    "cities.remove(\"Islamabad\")\n",
    "cities"
   ]
  },
  {
   "cell_type": "code",
   "execution_count": 60,
   "id": "b70a39d6",
   "metadata": {},
   "outputs": [
    {
     "data": {
      "text/plain": [
       "['Germany', 'China', 'Pakistan ']"
      ]
     },
     "execution_count": 60,
     "metadata": {},
     "output_type": "execute_result"
    }
   ],
   "source": [
    "#list reverse\n",
    "countries = [\"Pakistan \", \"China\", \"Germany\"]\n",
    "countries.reverse()\n",
    "countries"
   ]
  },
  {
   "cell_type": "code",
   "execution_count": 61,
   "id": "664ba5c2",
   "metadata": {},
   "outputs": [
    {
     "data": {
      "text/plain": [
       "['China', 'Germany', 'Pakistan ']"
      ]
     },
     "execution_count": 61,
     "metadata": {},
     "output_type": "execute_result"
    }
   ],
   "source": [
    "#list sort\n",
    "countries = [\"Pakistan \", \"China\", \"Germany\"]\n",
    "countries.sort()\n",
    "countries"
   ]
  },
  {
   "cell_type": "markdown",
   "id": "6f333049",
   "metadata": {},
   "source": [
    "\n",
    "\n"
   ]
  },
  {
   "cell_type": "markdown",
   "id": "68bd44c2",
   "metadata": {},
   "source": [
    "### 3- Dictionaries\n",
    "- An unordered collection of elements \n",
    "- key and value\n",
    "- curly braces or brackets {}\n",
    "- Mutateable/ change the value"
   ]
  },
  {
   "cell_type": "code",
   "execution_count": 62,
   "id": "43ea255e",
   "metadata": {},
   "outputs": [
    {
     "data": {
      "text/plain": [
       "{'Samosa': 30, 'Pakora': 20, 'Salad': 50, 'Raita': 20, 'Chicken rolls': 30}"
      ]
     },
     "execution_count": 62,
     "metadata": {},
     "output_type": "execute_result"
    }
   ],
   "source": [
    "#food and their prices \n",
    "food1 = {\"Samosa\":30, \"Pakora\":20, \"Salad\":50, \"Raita\": 20, \"Chicken rolls\":30}\n",
    "food1"
   ]
  },
  {
   "cell_type": "code",
   "execution_count": 63,
   "id": "7b08376a",
   "metadata": {},
   "outputs": [
    {
     "data": {
      "text/plain": [
       "dict"
      ]
     },
     "execution_count": 63,
     "metadata": {},
     "output_type": "execute_result"
    }
   ],
   "source": [
    "type(food1)"
   ]
  },
  {
   "cell_type": "code",
   "execution_count": 64,
   "id": "aa795266",
   "metadata": {},
   "outputs": [
    {
     "data": {
      "text/plain": [
       "dict_keys(['Samosa', 'Pakora', 'Salad', 'Raita', 'Chicken rolls'])"
      ]
     },
     "execution_count": 64,
     "metadata": {},
     "output_type": "execute_result"
    }
   ],
   "source": [
    "#extarct data\n",
    "keys1 = food1.keys()\n",
    "keys1"
   ]
  },
  {
   "cell_type": "code",
   "execution_count": 65,
   "id": "ef044287",
   "metadata": {},
   "outputs": [
    {
     "data": {
      "text/plain": [
       "dict_values([30, 20, 50, 20, 30])"
      ]
     },
     "execution_count": 65,
     "metadata": {},
     "output_type": "execute_result"
    }
   ],
   "source": [
    "values1 = food1.values()\n",
    "values1"
   ]
  },
  {
   "cell_type": "code",
   "execution_count": 66,
   "id": "92010172",
   "metadata": {},
   "outputs": [
    {
     "data": {
      "text/plain": [
       "{'Samosa': 30,\n",
       " 'Pakora': 20,\n",
       " 'Salad': 50,\n",
       " 'Raita': 20,\n",
       " 'Chicken rolls': 30,\n",
       " 'Tikki': 10}"
      ]
     },
     "execution_count": 66,
     "metadata": {},
     "output_type": "execute_result"
    }
   ],
   "source": [
    "#adding new element \n",
    "food1[\"Tikki\"]=10\n",
    "food1"
   ]
  },
  {
   "cell_type": "code",
   "execution_count": 67,
   "id": "8a94d55e",
   "metadata": {},
   "outputs": [
    {
     "data": {
      "text/plain": [
       "{'Samosa': 30,\n",
       " 'Pakora': 20,\n",
       " 'Salad': 50,\n",
       " 'Raita': 20,\n",
       " 'Chicken rolls': 30,\n",
       " 'Tikki': 15}"
      ]
     },
     "execution_count": 67,
     "metadata": {},
     "output_type": "execute_result"
    }
   ],
   "source": [
    "# update the values \n",
    "food1[\"Tikki\"]=15\n",
    "food1"
   ]
  },
  {
   "cell_type": "code",
   "execution_count": 68,
   "id": "1530f703",
   "metadata": {},
   "outputs": [
    {
     "data": {
      "text/plain": [
       "{'Dates': 50, 'Choclates': 200, 'Swayyan': 1000}"
      ]
     },
     "execution_count": 68,
     "metadata": {},
     "output_type": "execute_result"
    }
   ],
   "source": [
    "food2 = {\"Dates\":50, \"Choclates\":200, \"Swayyan\": 1000}\n",
    "food2"
   ]
  },
  {
   "cell_type": "code",
   "execution_count": 69,
   "id": "85516643",
   "metadata": {
    "scrolled": true
   },
   "outputs": [
    {
     "data": {
      "text/plain": [
       "{'Samosa': 30,\n",
       " 'Pakora': 20,\n",
       " 'Salad': 50,\n",
       " 'Raita': 20,\n",
       " 'Chicken rolls': 30,\n",
       " 'Tikki': 15,\n",
       " 'Dates': 50,\n",
       " 'Choclates': 200,\n",
       " 'Swayyan': 1000}"
      ]
     },
     "execution_count": 69,
     "metadata": {},
     "output_type": "execute_result"
    }
   ],
   "source": [
    "#concatinate\n",
    "food1.update(food2)\n",
    "food1\n"
   ]
  },
  {
   "cell_type": "markdown",
   "id": "d81d21d7",
   "metadata": {},
   "source": [
    "### Functions of  Dictionaries"
   ]
  },
  {
   "cell_type": "code",
   "execution_count": 70,
   "id": "4edfd1dc",
   "metadata": {},
   "outputs": [
    {
     "data": {
      "text/plain": [
       "{}"
      ]
     },
     "execution_count": 70,
     "metadata": {},
     "output_type": "execute_result"
    }
   ],
   "source": [
    "#Dictionary clear\n",
    "cloths ={\n",
    "    \"brand\": \"Gussi\",\n",
    "    \"Article\": \"Pajamas\",\n",
    "    \"price\": 1000\n",
    "}\n",
    "cloths.clear()\n",
    "cloths"
   ]
  },
  {
   "cell_type": "code",
   "execution_count": 71,
   "id": "72cda723",
   "metadata": {},
   "outputs": [
    {
     "data": {
      "text/plain": [
       "{'brand': 'apple', 'model': '13 pro max', 'year': 2021}"
      ]
     },
     "execution_count": 71,
     "metadata": {},
     "output_type": "execute_result"
    }
   ],
   "source": [
    "#Dictionary copy\n",
    "phone ={\n",
    "    \"brand\": \"apple\",\n",
    "    \"model\": \"13 pro max\",\n",
    "    \"year\": 2021\n",
    "}\n",
    "x = phone.copy()\n",
    "x"
   ]
  },
  {
   "cell_type": "code",
   "execution_count": 72,
   "id": "9d291049",
   "metadata": {},
   "outputs": [
    {
     "data": {
      "text/plain": [
       "{'iPhone': 0, 'Huawei': 0, 'Samsung': 0}"
      ]
     },
     "execution_count": 72,
     "metadata": {},
     "output_type": "execute_result"
    }
   ],
   "source": [
    "#Dictionary fromkeys\n",
    "x = {\"iPhone\", \"Samsung\", \"Huawei\"}\n",
    "y = 0\n",
    "thisdict = dict.fromkeys(x,y)\n",
    "thisdict"
   ]
  },
  {
   "cell_type": "code",
   "execution_count": 73,
   "id": "95c48f75",
   "metadata": {},
   "outputs": [
    {
     "data": {
      "text/plain": [
       "'13 pro max'"
      ]
     },
     "execution_count": 73,
     "metadata": {},
     "output_type": "execute_result"
    }
   ],
   "source": [
    "#Dictionary get\n",
    "phone ={\n",
    "    \"brand\": \"apple\",\n",
    "    \"model\": \"13 pro max\",\n",
    "    \"year\": 2021\n",
    "}\n",
    "x = phone.get(\"model\")\n",
    "x"
   ]
  },
  {
   "cell_type": "code",
   "execution_count": 74,
   "id": "a1315bab",
   "metadata": {},
   "outputs": [
    {
     "data": {
      "text/plain": [
       "dict_items([('brand', 'apple'), ('model', '13 pro max'), ('year', 2021)])"
      ]
     },
     "execution_count": 74,
     "metadata": {},
     "output_type": "execute_result"
    }
   ],
   "source": [
    "#Dictionary items\n",
    "phone ={\n",
    "    \"brand\": \"apple\",\n",
    "    \"model\": \"13 pro max\",\n",
    "    \"year\": 2021\n",
    "}\n",
    "x = phone.items()\n",
    "x"
   ]
  },
  {
   "cell_type": "code",
   "execution_count": 75,
   "id": "a9e8a968",
   "metadata": {},
   "outputs": [
    {
     "data": {
      "text/plain": [
       "dict_keys(['brand', 'model', 'year'])"
      ]
     },
     "execution_count": 75,
     "metadata": {},
     "output_type": "execute_result"
    }
   ],
   "source": [
    "#Dictionary keys\n",
    "phone ={\n",
    "    \"brand\": \"apple\",\n",
    "    \"model\": \"13 pro max\",\n",
    "    \"year\": 2021\n",
    "}\n",
    "x = phone.keys()\n",
    "x"
   ]
  },
  {
   "cell_type": "code",
   "execution_count": 76,
   "id": "8103a26f",
   "metadata": {},
   "outputs": [
    {
     "data": {
      "text/plain": [
       "{'brand': 'Gussi', 'price': 1000}"
      ]
     },
     "execution_count": 76,
     "metadata": {},
     "output_type": "execute_result"
    }
   ],
   "source": [
    "#Dictionary pop\n",
    "cloths ={\n",
    "    \"brand\": \"Gussi\",\n",
    "    \"Article\": \"Pajamas\",\n",
    "    \"price\": 1000\n",
    "}\n",
    "cloths.pop(\"Article\")\n",
    "cloths"
   ]
  },
  {
   "cell_type": "code",
   "execution_count": 77,
   "id": "df2810e1",
   "metadata": {},
   "outputs": [
    {
     "data": {
      "text/plain": [
       "{'brand': 'apple', 'model': '13 pro max'}"
      ]
     },
     "execution_count": 77,
     "metadata": {},
     "output_type": "execute_result"
    }
   ],
   "source": [
    "#Dictionary popitem\n",
    "phone ={\n",
    "    \"brand\": \"apple\",\n",
    "    \"model\": \"13 pro max\",\n",
    "    \"year\": 2021\n",
    "}\n",
    "phone.popitem()\n",
    "phone"
   ]
  },
  {
   "cell_type": "code",
   "execution_count": 78,
   "id": "9c1c2013",
   "metadata": {},
   "outputs": [
    {
     "data": {
      "text/plain": [
       "' Model S'"
      ]
     },
     "execution_count": 78,
     "metadata": {},
     "output_type": "execute_result"
    }
   ],
   "source": [
    "#Dictionary setdefault\n",
    "\n",
    "car = {\n",
    "  \"brand\": \"Tesla\",\n",
    "  \"model\": \" Model S\",\n",
    "  \"year\": 2012\n",
    "}\n",
    "x = car.setdefault(\"model\", \" Model S\")\n",
    "x\n",
    "\n"
   ]
  },
  {
   "cell_type": "code",
   "execution_count": 79,
   "id": "3253ba11",
   "metadata": {},
   "outputs": [
    {
     "data": {
      "text/plain": [
       "{'brand': 'Tesla', 'model': ' Model S', 'year': 2012, 'color': 'Black'}"
      ]
     },
     "execution_count": 79,
     "metadata": {},
     "output_type": "execute_result"
    }
   ],
   "source": [
    "#Dictionary update\n",
    "car = {\n",
    "  \"brand\": \"Tesla\",\n",
    "  \"model\": \" Model S\",\n",
    "  \"year\": 2012\n",
    "}\n",
    "car.update({\"color\": \"Black\"})\n",
    "car\n",
    "            "
   ]
  },
  {
   "cell_type": "code",
   "execution_count": 80,
   "id": "fd5ffd7b",
   "metadata": {},
   "outputs": [
    {
     "data": {
      "text/plain": [
       "dict_values(['Tesla', ' Model S', 2012])"
      ]
     },
     "execution_count": 80,
     "metadata": {},
     "output_type": "execute_result"
    }
   ],
   "source": [
    "#Dictionary values\n",
    "car = {\n",
    "  \"brand\": \"Tesla\",\n",
    "  \"model\": \" Model S\",\n",
    "  \"year\": 2012\n",
    "}\n",
    "x = car.values()\n",
    "x"
   ]
  },
  {
   "cell_type": "markdown",
   "id": "dd1bafca",
   "metadata": {},
   "source": [
    "### 4- Set\n",
    "- Unordered and unindexted collection of elements \n",
    "- curly braces { }\n",
    "- No duplicates allowed"
   ]
  },
  {
   "cell_type": "code",
   "execution_count": 81,
   "id": "bc464c12",
   "metadata": {},
   "outputs": [
    {
     "data": {
      "text/plain": [
       "{1, 2.1, 5.2, 'Gilgit Baltistan', 'Hussain', 'Python Ka Chilla'}"
      ]
     },
     "execution_count": 81,
     "metadata": {},
     "output_type": "execute_result"
    }
   ],
   "source": [
    "s1 = {1,2.1, 5.2, \"Hussain\", \"Python Ka Chilla\", \"Gilgit Baltistan\", True}\n",
    "s1"
   ]
  },
  {
   "cell_type": "code",
   "execution_count": 82,
   "id": "22a6df6c",
   "metadata": {},
   "outputs": [
    {
     "data": {
      "text/plain": [
       "{1, 2.1, 5.2, 'Gilgit Baltistan', 'Hussain', 'Muhammad', 'Python Ka Chilla'}"
      ]
     },
     "execution_count": 82,
     "metadata": {},
     "output_type": "execute_result"
    }
   ],
   "source": [
    "s1.add(\"Muhammad\")\n",
    "s1"
   ]
  },
  {
   "cell_type": "code",
   "execution_count": 83,
   "id": "b6192910",
   "metadata": {},
   "outputs": [
    {
     "data": {
      "text/plain": [
       "{1, 2.1, 5.2, 'Gilgit Baltistan', 'Muhammad', 'Python Ka Chilla'}"
      ]
     },
     "execution_count": 83,
     "metadata": {},
     "output_type": "execute_result"
    }
   ],
   "source": [
    "s1.remove(\"Hussain\")\n",
    "s1"
   ]
  },
  {
   "cell_type": "markdown",
   "id": "c6a41fe9",
   "metadata": {},
   "source": [
    "### Functions of set"
   ]
  },
  {
   "cell_type": "code",
   "execution_count": 84,
   "id": "ad7ef02c",
   "metadata": {},
   "outputs": [
    {
     "data": {
      "text/plain": [
       "{'apple', 'banana', 'oranges', 'pears'}"
      ]
     },
     "execution_count": 84,
     "metadata": {},
     "output_type": "execute_result"
    }
   ],
   "source": [
    "#Add an element to the fruits set:\n",
    "fruits ={\"apple\", \"banana\", \"pears\"}\n",
    "fruits.add(\"oranges\")\n",
    "fruits"
   ]
  },
  {
   "cell_type": "code",
   "execution_count": 85,
   "id": "93bb31a3",
   "metadata": {},
   "outputs": [
    {
     "name": "stdout",
     "output_type": "stream",
     "text": [
      "set()\n"
     ]
    }
   ],
   "source": [
    "#clear all elements from the fruits set:\n",
    "fruits = {\"apple\", \"banana\", \"cherry\"}\n",
    "\n",
    "fruits.clear()\n",
    "\n",
    "print(fruits)"
   ]
  },
  {
   "cell_type": "code",
   "execution_count": 86,
   "id": "400a47eb",
   "metadata": {},
   "outputs": [
    {
     "data": {
      "text/plain": [
       "{'apple', 'banana', 'pears'}"
      ]
     },
     "execution_count": 86,
     "metadata": {},
     "output_type": "execute_result"
    }
   ],
   "source": [
    "#Copy the fruits set:\n",
    "fruits = {\"apple\", \"banana\", \"pears\"}\n",
    "x = fruits.copy()\n",
    "x"
   ]
  },
  {
   "cell_type": "code",
   "execution_count": 87,
   "id": "459f3478",
   "metadata": {},
   "outputs": [
    {
     "data": {
      "text/plain": [
       "{'apple', 'banana', 'oranges'}"
      ]
     },
     "execution_count": 87,
     "metadata": {},
     "output_type": "execute_result"
    }
   ],
   "source": [
    "#difference\n",
    "\n",
    "x = {\"apple\", \"banana\", \"oranges\"}\n",
    "y = {\"Python\", \"SPSS\", \"R\"}\n",
    "\n",
    "z = x.difference(y)\n",
    "z"
   ]
  },
  {
   "cell_type": "code",
   "execution_count": 88,
   "id": "9f9f0a0d",
   "metadata": {},
   "outputs": [
    {
     "data": {
      "text/plain": [
       "{'apple', 'banana', 'oranges'}"
      ]
     },
     "execution_count": 88,
     "metadata": {},
     "output_type": "execute_result"
    }
   ],
   "source": [
    "#difference update\n",
    "\n",
    "x = {\"apple\", \"banana\", \"oranges\"}\n",
    "y = {\"Python\", \"SPSS\", \"R\"}\n",
    "\n",
    "x.difference_update(y)\n",
    "x\n"
   ]
  },
  {
   "cell_type": "code",
   "execution_count": 89,
   "id": "0b86f9f8",
   "metadata": {},
   "outputs": [
    {
     "data": {
      "text/plain": [
       "{'apple', 'oranges'}"
      ]
     },
     "execution_count": 89,
     "metadata": {},
     "output_type": "execute_result"
    }
   ],
   "source": [
    "#discard Remove banana from the set\n",
    "\n",
    "fruits = {\"apple\", \"banana\", \"oranges\"}\n",
    "fruits.discard(\"banana\")\n",
    "fruits"
   ]
  },
  {
   "cell_type": "code",
   "execution_count": 90,
   "id": "f5d47efb",
   "metadata": {},
   "outputs": [
    {
     "data": {
      "text/plain": [
       "set()"
      ]
     },
     "execution_count": 90,
     "metadata": {},
     "output_type": "execute_result"
    }
   ],
   "source": [
    "#intersection\n",
    "x = {\"apple\", \"banana\", \"oranges\"}\n",
    "y = {\"Python\", \"SPSS\", \"R\"}\n",
    "\n",
    "z = x.intersection(y)\n",
    "z\n"
   ]
  },
  {
   "cell_type": "code",
   "execution_count": 91,
   "id": "f82fb569",
   "metadata": {},
   "outputs": [
    {
     "data": {
      "text/plain": [
       "set()"
      ]
     },
     "execution_count": 91,
     "metadata": {},
     "output_type": "execute_result"
    }
   ],
   "source": [
    "#intersection_update\n",
    "\n",
    "x = {\"apple\", \"banana\", \"oranges\"}\n",
    "y = {\"Python\", \"SPSS\", \"R\"}\n",
    "\n",
    "x.intersection_update(y)\n",
    "x"
   ]
  },
  {
   "cell_type": "code",
   "execution_count": 92,
   "id": "7d13fe44",
   "metadata": {},
   "outputs": [
    {
     "data": {
      "text/plain": [
       "True"
      ]
     },
     "execution_count": 92,
     "metadata": {},
     "output_type": "execute_result"
    }
   ],
   "source": [
    "#isdisjoint\n",
    "x = {\"apple\", \"banana\", \"oranges\"}\n",
    "y = {\"Python\", \"SPSS\", \"R\"}\n",
    "\n",
    "z = x.isdisjoint(y)\n",
    "z\n"
   ]
  },
  {
   "cell_type": "code",
   "execution_count": 93,
   "id": "a9fbb8e9",
   "metadata": {},
   "outputs": [
    {
     "data": {
      "text/plain": [
       "False"
      ]
     },
     "execution_count": 93,
     "metadata": {},
     "output_type": "execute_result"
    }
   ],
   "source": [
    "#issubset\n",
    "x = {\"Hamid\", \"Isha\", \"Rahim\"}\n",
    "y = {\"a\", \"b\", \"c\", \"d\", \"e\", \"f\", \"g\"}\n",
    "\n",
    "z = x.issubset(y)\n",
    "z\n",
    "\n"
   ]
  },
  {
   "cell_type": "code",
   "execution_count": 94,
   "id": "524500bf",
   "metadata": {},
   "outputs": [
    {
     "data": {
      "text/plain": [
       "{'apple', 'banana', 'oranges'}"
      ]
     },
     "execution_count": 94,
     "metadata": {},
     "output_type": "execute_result"
    }
   ],
   "source": [
    "#pop\n",
    "fruits = {\"apple\", \"banana\", \"oranges\"}\n",
    "fruits.pop\n",
    "fruits"
   ]
  },
  {
   "cell_type": "code",
   "execution_count": 95,
   "id": "a69f5bd8",
   "metadata": {},
   "outputs": [
    {
     "data": {
      "text/plain": [
       "{'apple', 'oranges'}"
      ]
     },
     "execution_count": 95,
     "metadata": {},
     "output_type": "execute_result"
    }
   ],
   "source": [
    "#remove\n",
    "fruits = {\"apple\", \"banana\", \"oranges\"}\n",
    "fruits.remove(\"banana\")\n",
    "fruits"
   ]
  },
  {
   "cell_type": "code",
   "execution_count": 96,
   "id": "975176a4",
   "metadata": {},
   "outputs": [
    {
     "data": {
      "text/plain": [
       "{'Python', 'R', 'SPSS', 'apple', 'banana', 'oranges'}"
      ]
     },
     "execution_count": 96,
     "metadata": {},
     "output_type": "execute_result"
    }
   ],
   "source": [
    "#symmetric_difference\n",
    "x = {\"apple\", \"banana\", \"oranges\"}\n",
    "y = {\"Python\", \"SPSS\", \"R\"}\n",
    "\n",
    "z = x.symmetric_difference(y)\n",
    "z"
   ]
  },
  {
   "cell_type": "code",
   "execution_count": 97,
   "id": "06fd47da",
   "metadata": {},
   "outputs": [
    {
     "data": {
      "text/plain": [
       "{'Python', 'R', 'SPSS', 'apple', 'banana', 'oranges'}"
      ]
     },
     "execution_count": 97,
     "metadata": {},
     "output_type": "execute_result"
    }
   ],
   "source": [
    "#symmetric_difference_update\n",
    "x = {\"apple\", \"banana\", \"oranges\"}\n",
    "y = {\"Python\", \"SPSS\", \"R\"}\n",
    "\n",
    "x.symmetric_difference_update(y)\n",
    "x"
   ]
  },
  {
   "cell_type": "code",
   "execution_count": 98,
   "id": "e182d441",
   "metadata": {},
   "outputs": [
    {
     "data": {
      "text/plain": [
       "{'Python', 'R', 'SPSS', 'apple', 'banana', 'oranges'}"
      ]
     },
     "execution_count": 98,
     "metadata": {},
     "output_type": "execute_result"
    }
   ],
   "source": [
    "#union\n",
    "x = {\"apple\", \"banana\", \"oranges\"}\n",
    "y = {\"Python\", \"SPSS\", \"R\"}\n",
    "\n",
    "z = x.union(y)\n",
    "z"
   ]
  },
  {
   "cell_type": "code",
   "execution_count": 99,
   "id": "96060e62",
   "metadata": {},
   "outputs": [
    {
     "data": {
      "text/plain": [
       "{'Python', 'R', 'SPSS', 'apple', 'banana', 'oranges'}"
      ]
     },
     "execution_count": 99,
     "metadata": {},
     "output_type": "execute_result"
    }
   ],
   "source": [
    "#update\n",
    "x = {\"apple\", \"banana\", \"oranges\"}\n",
    "y = {\"Python\", \"SPSS\", \"R\"}\n",
    "\n",
    "x.update(y)\n",
    "x"
   ]
  }
 ],
 "metadata": {
  "kernelspec": {
   "display_name": "Python 3 (ipykernel)",
   "language": "python",
   "name": "python3"
  },
  "language_info": {
   "codemirror_mode": {
    "name": "ipython",
    "version": 3
   },
   "file_extension": ".py",
   "mimetype": "text/x-python",
   "name": "python",
   "nbconvert_exporter": "python",
   "pygments_lexer": "ipython3",
   "version": "3.9.7"
  }
 },
 "nbformat": 4,
 "nbformat_minor": 5
}
