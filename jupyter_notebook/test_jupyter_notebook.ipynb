{
 "cells": [
  {
   "cell_type": "markdown",
   "id": "8c492979",
   "metadata": {},
   "source": [
    "# Python ka Chilla with #baba_aammar\n",
    "## How to use Jupyter Note Book\n",
    "## Basics of Python\n",
    "### **01- My first program**\n"
   ]
  },
  {
   "cell_type": "code",
   "execution_count": 1,
   "id": "2c9398f6",
   "metadata": {
    "scrolled": true
   },
   "outputs": [
    {
     "name": "stdout",
     "output_type": "stream",
     "text": [
      "5\n",
      "Hello World\n",
      "We are learning python with Aammar\n"
     ]
    }
   ],
   "source": [
    "print(2+3)\n",
    "print(\"Hello World\")\n",
    "print(\"We are learning python with Aammar\")"
   ]
  },
  {
   "cell_type": "markdown",
   "id": "b349cc5b",
   "metadata": {},
   "source": [
    "### **02- Operators**"
   ]
  },
  {
   "cell_type": "code",
   "execution_count": 2,
   "id": "c6253deb",
   "metadata": {},
   "outputs": [
    {
     "name": "stdout",
     "output_type": "stream",
     "text": [
      "3\n",
      "2\n",
      "3.0\n",
      "6\n",
      "1\n",
      "3\n",
      "8\n",
      "6.5\n"
     ]
    }
   ],
   "source": [
    "print(2+1)\n",
    "print(3-1)\n",
    "print(6/2)\n",
    "print(2*3)\n",
    "print(13%2)\n",
    "print(6//2)\n",
    "print(2**3)\n",
    "\n",
    "print(3**2/2*3/3+6-4)\n",
    "\n"
   ]
  },
  {
   "cell_type": "markdown",
   "id": "323ed482",
   "metadata": {},
   "source": [
    "*PEMDAS\n",
    "Parenthesis Exponents Multipilication Division Addition Substraction \n",
    "left to right sequance for M D & A S*"
   ]
  },
  {
   "cell_type": "markdown",
   "id": "d8e77d43",
   "metadata": {},
   "source": [
    "### **03- Strings**"
   ]
  },
  {
   "cell_type": "code",
   "execution_count": 3,
   "id": "3f941da4",
   "metadata": {},
   "outputs": [
    {
     "name": "stdout",
     "output_type": "stream",
     "text": [
      "Hello World\n",
      "We are learning python with Aammar\n",
      "test for single quotes\n",
      "test for double quotes\n",
      "test for triple quotes\n",
      "what's up?\n"
     ]
    }
   ],
   "source": [
    "print(\"Hello World\")\n",
    "print(\"We are learning python with Aammar\")\n",
    "print('test for single quotes')\n",
    "print(\"test for double quotes\")\n",
    "print('''test for triple quotes''')\n",
    "\n",
    "print(\"what's up?\")"
   ]
  },
  {
   "cell_type": "markdown",
   "id": "296af671",
   "metadata": {},
   "source": [
    "### **04- Comments**"
   ]
  },
  {
   "cell_type": "code",
   "execution_count": 4,
   "id": "595b1e05",
   "metadata": {},
   "outputs": [
    {
     "name": "stdout",
     "output_type": "stream",
     "text": [
      "How are you?\n",
      "We are learning python Aammar\n",
      "8\n"
     ]
    }
   ],
   "source": [
    "print(\"How are you?\")                    #press (Ctrl+/) to comment out\n",
    "print(\"We are learning python Aammar\")   #print a sting\n",
    "print(2+6) "
   ]
  },
  {
   "cell_type": "markdown",
   "id": "f036f056",
   "metadata": {},
   "source": [
    "### **05- Variables**"
   ]
  },
  {
   "cell_type": "code",
   "execution_count": 5,
   "id": "debced8b",
   "metadata": {},
   "outputs": [
    {
     "name": "stdout",
     "output_type": "stream",
     "text": [
      "<class 'str'>\n",
      "Mangoes\n"
     ]
    }
   ],
   "source": [
    "fruit_basket = 8\n",
    "fruit_basket= \"Mangoes\"\n",
    "print(type(fruit_basket))\n",
    "print(fruit_basket)"
   ]
  },
  {
   "cell_type": "markdown",
   "id": "3c5b2b24",
   "metadata": {},
   "source": [
    "### **06- Input Variables**"
   ]
  },
  {
   "cell_type": "code",
   "execution_count": 6,
   "id": "a560412c",
   "metadata": {},
   "outputs": [
    {
     "name": "stdout",
     "output_type": "stream",
     "text": [
      "Mangoes\n",
      "what is your favourite fruit?apple\n",
      "apple\n",
      "What is your name?Hussain\n",
      "Hello! Hussain\n",
      "What is your name?Hussain\n",
      "Hello! Hussain\n",
      "What is your nameHussain\n",
      "How old are you? 18\n",
      "Hello! Hussain , You are still young\n"
     ]
    }
   ],
   "source": [
    "fruit_basket= \"Mangoes\"\n",
    "print(fruit_basket)\n",
    "\n",
    "#input function\n",
    "fruit_basket= input(\"what is your favourite fruit?\")\n",
    "print(fruit_basket)\n",
    "\n",
    "#input function of second stage\n",
    "name= input(\"What is your name?\")\n",
    "greetings=\"Hello!\"\n",
    "print(greetings, name)\n",
    "\n",
    "#another way of stage 2 input function\n",
    "name= input(\"What is your name?\")\n",
    "print(\"Hello!\",name)\n",
    "\n",
    "#3rd stage input function\n",
    "name=input(\"What is your name\")\n",
    "age= input(\"How old are you? \")\n",
    "Greetings=\"Hello!\"\n",
    "\n",
    "print(Greetings, name, \", You are still young\")"
   ]
  },
  {
   "cell_type": "markdown",
   "id": "3a3c1f57",
   "metadata": {},
   "source": [
    "### **06- Conditional Logics**"
   ]
  },
  {
   "cell_type": "code",
   "execution_count": 7,
   "id": "f578aad4",
   "metadata": {},
   "outputs": [
    {
     "name": "stdout",
     "output_type": "stream",
     "text": [
      "True\n",
      "False\n",
      "True\n",
      "False\n",
      "True\n",
      "True\n",
      "How old is hammad?55\n",
      "<class 'str'>\n",
      "False\n"
     ]
    }
   ],
   "source": [
    "# logical operators are either true or false , yes or no , 0 or 1\n",
    "# equal to                              =\n",
    "# not equal to                          !=\n",
    "# less than                             <\n",
    "# greater than                          >\n",
    "# less than and equal to                <=\n",
    "# greater than and equal to             >=\n",
    "\n",
    "# is 4 equal to 4?\n",
    "print(4==4)\n",
    "print(4!=4)\n",
    "print(3<6)\n",
    "print(3>6)\n",
    "print(3<=5)\n",
    "print(5>=4)\n",
    "\n",
    "# application of logical operators \n",
    "# hammad_age=4\n",
    "# age_at_School=5\n",
    "# print(hammad_age==age_at_School) \n",
    "\n",
    "# input function and logical operator\n",
    "age_at_School=5\n",
    "hammad_age= input(\"How old is hammad?5\")   #input function\n",
    "#hammad_age=int(hammad_age)\n",
    "print(type(hammad_age))\n",
    "print(hammad_age==age_at_School)         #logical operator \n"
   ]
  },
  {
   "cell_type": "markdown",
   "id": "60ab3c0f",
   "metadata": {},
   "source": [
    "### **08- Type Conversion**"
   ]
  },
  {
   "cell_type": "code",
   "execution_count": 8,
   "id": "b711d1ca",
   "metadata": {},
   "outputs": [
    {
     "name": "stdout",
     "output_type": "stream",
     "text": [
      "20.2 type of x is: <class 'float'>\n",
      "What is your age?18\n",
      "18 <class 'int'>\n",
      "What is your name?18\n",
      "18 <class 'str'>\n"
     ]
    }
   ],
   "source": [
    "x= 10               #integer\n",
    "y= 10.2             #float\n",
    "z= \"Hello!\"         #string\n",
    "\n",
    "#implicit type conversion\n",
    "x= x+y\n",
    "print(x,\"type of x is:\", type(x))\n",
    "\n",
    "#explicit type conversion \n",
    "age=input(\"What is your age?\")\n",
    "age=int(age)\n",
    "print(age, type(int(age)))\n",
    "\n",
    "#name\n",
    "name=input(\"What is your name?\")\n",
    "print(name, type(str(name)))"
   ]
  },
  {
   "cell_type": "markdown",
   "id": "6559ea1f",
   "metadata": {},
   "source": [
    "### **09- If, elif and else**\n"
   ]
  },
  {
   "cell_type": "code",
   "execution_count": 9,
   "id": "6b54863f",
   "metadata": {},
   "outputs": [
    {
     "name": "stdout",
     "output_type": "stream",
     "text": [
      "You should take care of Hammad he is still a baby\n"
     ]
    }
   ],
   "source": [
    "hammad_age=2\n",
    "required_age_at_school=5\n",
    "# question: can hammad go to school\n",
    "\n",
    "if hammad_age==required_age_at_school:\n",
    "    print(\"Congratulation! Hammad can join the school.\")\n",
    "elif hammad_age > required_age_at_school:\n",
    "    print(\"Hammad should join higher secondary school\")\n",
    "elif hammad_age <=2:\n",
    "    print(\"You should take care of Hammad he is still a baby\")\n",
    "\n",
    "else: \n",
    "    print(\"Hammad can not go to school\")"
   ]
  },
  {
   "cell_type": "markdown",
   "id": "d60bffe8",
   "metadata": {},
   "source": [
    "### **10- Functions**"
   ]
  },
  {
   "cell_type": "code",
   "execution_count": 10,
   "id": "862cba17",
   "metadata": {},
   "outputs": [
    {
     "name": "stdout",
     "output_type": "stream",
     "text": [
      " We are learning with Aammar\n",
      " We are learning with Aammar\n",
      " We are learning with Aammar\n",
      "We are learning with Aammar in codenics youtube channel\n",
      "We are learning with Aammar in codenics youtube channel\n",
      "We are learning with Aammar in codenics youtube channel\n",
      "We are learning with Aammar in codenics youtube channel\n",
      "We are learning with Aammar in codenics youtube channel\n",
      "We are learning with Aammar in codenics youtube channel\n",
      "Hammad is still a baby\n",
      "38\n"
     ]
    }
   ],
   "source": [
    "# definig a functions\n",
    "# 1\n",
    "from typing import Text\n",
    "\n",
    "\n",
    "def print_condenics():\n",
    "    print(\" We are learning with Aammar\")\n",
    "    print(\" We are learning with Aammar\")\n",
    "    print(\" We are learning with Aammar\")\n",
    "\n",
    "print_condenics()\n",
    "\n",
    "# 2\n",
    "def print_codenics():\n",
    "    text = \"We are learning with Aammar in codenics youtube channel\"\n",
    "    print(text)\n",
    "    print(text)\n",
    "    print(text)\n",
    "\n",
    "print_codenics()\n",
    "\n",
    "# 3\n",
    "def print_codenics(text):\n",
    "    print(text)\n",
    "    print(text)\n",
    "    print(text)\n",
    "\n",
    "print_codenics(\"We are learning with Aammar in codenics youtube channel\")\n",
    "\n",
    "# defining a fuction with if, elif and alse statements\n",
    "\n",
    "def school_calculator(age):\n",
    "    if age==5:\n",
    "        print(\"Hammad can join the school\")\n",
    "    elif age>5:\n",
    "        print(\"Hammad should go to higher school\")\n",
    "    else:\n",
    "        print(\"Hammad is still a baby\")\n",
    "\n",
    "school_calculator(2)\n",
    "\n",
    "\n",
    "# defining a function of future\n",
    "\n",
    "def future_age(age):\n",
    "    new_age=age+20\n",
    "    return new_age\n",
    "    print(new_age)\n",
    "\n",
    "future_predicted_age=future_age(18)\n",
    "print(future_predicted_age)"
   ]
  },
  {
   "cell_type": "markdown",
   "id": "0b2b1f73",
   "metadata": {},
   "source": [
    "### **11- Loops**"
   ]
  },
  {
   "cell_type": "code",
   "execution_count": 11,
   "id": "db2d118c",
   "metadata": {},
   "outputs": [
    {
     "name": "stdout",
     "output_type": "stream",
     "text": [
      "0\n",
      "1\n",
      "2\n",
      "3\n",
      "4\n",
      "4\n",
      "5\n",
      "6\n",
      "7\n",
      "8\n",
      "9\n",
      "10\n",
      "Mon\n",
      "Tue\n",
      "Wed\n",
      "Thu\n"
     ]
    }
   ],
   "source": [
    "# While and For loops\n",
    "#while loops\n",
    "\n",
    "x=0\n",
    "while (x<5):\n",
    "    print(x)\n",
    "    x=x+1\n",
    "\n",
    "#for loops\n",
    "\n",
    "for x in range(4, 11):\n",
    "    print(x)\n",
    "\n",
    "# array\n",
    "days = [\"Mon\", \"Tue\",\"Wed\",\"Thu\",\"Fri\",\"Sat\",\"Sun\"]\n",
    "\n",
    "for d in days:\n",
    "    if (d==\"Fri\"): break      # loop stops\n",
    "    if (d==\"Fri\"): continue     # skips d\n",
    "    print(d)"
   ]
  },
  {
   "cell_type": "markdown",
   "id": "d6b8179b",
   "metadata": {},
   "source": [
    "### **12- Import libraries**"
   ]
  },
  {
   "cell_type": "code",
   "execution_count": 12,
   "id": "bbb1c92f",
   "metadata": {},
   "outputs": [
    {
     "name": "stdout",
     "output_type": "stream",
     "text": [
      "The value of pi is 3.141592653589793\n",
      "300\n"
     ]
    }
   ],
   "source": [
    "# if you want to print the value of pi\n",
    "\n",
    "import math \n",
    "print(\"The value of pi is\", math.pi)\n",
    "\n",
    "import statistics\n",
    "\n",
    "x=[150, 250,350,450]\n",
    "\n",
    "print(statistics. mean(x))"
   ]
  },
  {
   "cell_type": "markdown",
   "id": "1c1af108",
   "metadata": {},
   "source": [
    "### **13- Trouble Shooting**\n"
   ]
  },
  {
   "cell_type": "code",
   "execution_count": 13,
   "id": "a3e0ea81",
   "metadata": {},
   "outputs": [
    {
     "name": "stdout",
     "output_type": "stream",
     "text": [
      "Hello name \n",
      "Hello Aammar\n"
     ]
    }
   ],
   "source": [
    "#print(We are learning python with Aammar)       #without inverted commas is called syntax error\n",
    "\n",
    "#print(25/0)                                      #Runtime error or zero divison error \n",
    "\n",
    "\n",
    "name= \"Aammar\"\n",
    "print(\"Hello name \")                             #Symentic error \n",
    "print(\"Hello\", name)   \n"
   ]
  }
 ],
 "metadata": {
  "kernelspec": {
   "display_name": "Python 3 (ipykernel)",
   "language": "python",
   "name": "python3"
  },
  "language_info": {
   "codemirror_mode": {
    "name": "ipython",
    "version": 3
   },
   "file_extension": ".py",
   "mimetype": "text/x-python",
   "name": "python",
   "nbconvert_exporter": "python",
   "pygments_lexer": "ipython3",
   "version": "3.9.7"
  }
 },
 "nbformat": 4,
 "nbformat_minor": 5
}
